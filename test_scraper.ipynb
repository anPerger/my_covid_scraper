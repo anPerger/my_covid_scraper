{
 "cells": [
  {
   "cell_type": "code",
   "execution_count": 1,
   "metadata": {},
   "outputs": [],
   "source": [
    "import pandas as pd\n",
    "import pymongo\n",
    "from bs4 import BeautifulSoup as bs\n",
    "import requests\n",
    "from splinter import Browser"
   ]
  },
  {
   "cell_type": "code",
   "execution_count": 2,
   "metadata": {},
   "outputs": [],
   "source": [
    "url = 'https://covidtracking.com/data'\n",
    "html = requests.get(url).text"
   ]
  },
  {
   "cell_type": "code",
   "execution_count": 3,
   "metadata": {},
   "outputs": [],
   "source": [
    "soup = bs(html, 'lxml')"
   ]
  },
  {
   "cell_type": "code",
   "execution_count": 4,
   "metadata": {},
   "outputs": [
    {
     "name": "stdout",
     "output_type": "stream",
     "text": [
      "The Data | The COVID Tracking Project\n"
     ]
    }
   ],
   "source": [
    "title = soup.title.text\n",
    "print(title)"
   ]
  },
  {
   "cell_type": "code",
   "execution_count": 5,
   "metadata": {},
   "outputs": [
    {
     "ename": "AttributeError",
     "evalue": "'NoneType' object has no attribute 'text'",
     "output_type": "error",
     "traceback": [
      "\u001b[1;31m---------------------------------------------------------------------------\u001b[0m",
      "\u001b[1;31mAttributeError\u001b[0m                            Traceback (most recent call last)",
      "\u001b[1;32m<ipython-input-5-4dd6d9e5ee2c>\u001b[0m in \u001b[0;36m<module>\u001b[1;34m\u001b[0m\n\u001b[0;32m      1\u001b[0m \u001b[0mstate_data\u001b[0m \u001b[1;33m=\u001b[0m \u001b[1;33m[\u001b[0m\u001b[1;33m]\u001b[0m\u001b[1;33m\u001b[0m\u001b[1;33m\u001b[0m\u001b[0m\n\u001b[0;32m      2\u001b[0m \u001b[1;33m\u001b[0m\u001b[0m\n\u001b[1;32m----> 3\u001b[1;33m \u001b[0mstate_cases\u001b[0m \u001b[1;33m=\u001b[0m \u001b[0msoup\u001b[0m\u001b[1;33m.\u001b[0m\u001b[0mfind\u001b[0m\u001b[1;33m(\u001b[0m\u001b[1;34m'div'\u001b[0m\u001b[1;33m,\u001b[0m \u001b[0mclass_\u001b[0m\u001b[1;33m=\u001b[0m\u001b[1;34m'b0_jG'\u001b[0m\u001b[1;33m)\u001b[0m\u001b[1;33m.\u001b[0m\u001b[0mtext\u001b[0m\u001b[1;33m.\u001b[0m\u001b[0mstrip\u001b[0m\u001b[1;33m(\u001b[0m\u001b[1;33m)\u001b[0m\u001b[1;33m\u001b[0m\u001b[1;33m\u001b[0m\u001b[0m\n\u001b[0m",
      "\u001b[1;31mAttributeError\u001b[0m: 'NoneType' object has no attribute 'text'"
     ]
    }
   ],
   "source": [
    "state_data = []\n",
    "\n",
    "state_cases = soup.find('div', class_='b0_jG').text.strip()\n"
   ]
  },
  {
   "cell_type": "code",
   "execution_count": 5,
   "metadata": {},
   "outputs": [
    {
     "data": {
      "text/plain": [
       "[{'name': 'Alabama', 'total_cases': '445,909', 'new_cases': '2,900'},\n",
       " {'name': 'Alaska', 'total_cases': '51,778', 'new_cases': '85'},\n",
       " {'name': 'American Samoa', 'total_cases': '0', 'new_cases': '0'},\n",
       " {'name': 'Arizona', 'total_cases': '732,643', 'new_cases': '4,748'},\n",
       " {'name': 'Arkansas', 'total_cases': '287,187', 'new_cases': '2,485'},\n",
       " {'name': 'California', 'total_cases': '3,153,186', 'new_cases': '17,028'},\n",
       " {'name': 'Colorado', 'total_cases': '388,620', 'new_cases': '1,158'},\n",
       " {'name': 'Connecticut', 'total_cases': '244,899', 'new_cases': '1,267'},\n",
       " {'name': 'Delaware', 'total_cases': '75,490', 'new_cases': '299'},\n",
       " {'name': 'District of Columbia', 'total_cases': '35,700', 'new_cases': '195'},\n",
       " {'name': 'Florida', 'total_cases': '1,637,296', 'new_cases': '9,466'},\n",
       " {'name': 'Georgia', 'total_cases': '727,752', 'new_cases': '5,690'},\n",
       " {'name': 'Guam', 'total_cases': '7,566', 'new_cases': '12'},\n",
       " {'name': 'Hawaii', 'total_cases': '25,967', 'new_cases': '64'},\n",
       " {'name': 'Idaho', 'total_cases': '160,033', 'new_cases': '527'},\n",
       " {'name': 'Illinois', 'total_cases': '1,108,430', 'new_cases': '3,667'},\n",
       " {'name': 'Indiana', 'total_cases': '614,946', 'new_cases': '1,718'},\n",
       " {'name': 'Iowa', 'total_cases': '263,852', 'new_cases': '591'},\n",
       " {'name': 'Kansas', 'total_cases': '269,255', 'new_cases': '0'},\n",
       " {'name': 'Kentucky', 'total_cases': '350,528', 'new_cases': '2,692'},\n",
       " {'name': 'Louisiana', 'total_cases': '388,562', 'new_cases': '2,620'},\n",
       " {'name': 'Maine', 'total_cases': '37,708', 'new_cases': '662'},\n",
       " {'name': 'Maryland', 'total_cases': '344,620', 'new_cases': '1,482'},\n",
       " {'name': 'Massachusetts', 'total_cases': '506,183', 'new_cases': '2,495'},\n",
       " {'name': 'Michigan', 'total_cases': '602,168', 'new_cases': '2,075'},\n",
       " {'name': 'Minnesota', 'total_cases': '456,490', 'new_cases': '707'},\n",
       " {'name': 'Mississippi', 'total_cases': '266,598', 'new_cases': '1,452'},\n",
       " {'name': 'Missouri', 'total_cases': '451,493', 'new_cases': '1,079'},\n",
       " {'name': 'Montana', 'total_cases': '92,160', 'new_cases': '344'},\n",
       " {'name': 'Nebraska', 'total_cases': '187,793', 'new_cases': '646'},\n",
       " {'name': 'Nevada', 'total_cases': '272,853', 'new_cases': '956'},\n",
       " {'name': 'New Hampshire', 'total_cases': '63,172', 'new_cases': '404'},\n",
       " {'name': 'New Jersey', 'total_cases': '671,727', 'new_cases': '4,776'},\n",
       " {'name': 'New Mexico', 'total_cases': '170,296', 'new_cases': '600'},\n",
       " {'name': 'New York', 'total_cases': '1,350,054', 'new_cases': '11,064'},\n",
       " {'name': 'North Carolina', 'total_cases': '727,423', 'new_cases': '3,978'},\n",
       " {'name': 'North Dakota', 'total_cases': '97,006', 'new_cases': '132'},\n",
       " {'name': 'Northern Mariana Islands', 'total_cases': '132', 'new_cases': '0'},\n",
       " {'name': 'Ohio', 'total_cases': '872,918', 'new_cases': '4,262'},\n",
       " {'name': 'Oklahoma', 'total_cases': '376,424', 'new_cases': '1,571'},\n",
       " {'name': 'Oregon', 'total_cases': '138,587', 'new_cases': '419'},\n",
       " {'name': 'Pennsylvania', 'total_cases': '812,495', 'new_cases': '4,628'},\n",
       " {'name': 'Puerto Rico', 'total_cases': '92,069', 'new_cases': '473'},\n",
       " {'name': 'Rhode Island', 'total_cases': '112,396', 'new_cases': '642'},\n",
       " {'name': 'South Carolina', 'total_cases': '423,667', 'new_cases': '2,250'},\n",
       " {'name': 'South Dakota', 'total_cases': '107,380', 'new_cases': '200'},\n",
       " {'name': 'Tennessee', 'total_cases': '712,406', 'new_cases': '1,979'},\n",
       " {'name': 'Texas', 'total_cases': '2,273,119', 'new_cases': '26,274'},\n",
       " {'name': 'US Virgin Islands', 'total_cases': '2,350', 'new_cases': '9'},\n",
       " {'name': 'Utah', 'total_cases': '338,675', 'new_cases': '1,411'},\n",
       " {'name': 'Vermont', 'total_cases': '11,285', 'new_cases': '120'},\n",
       " {'name': 'Virginia', 'total_cases': '483,326', 'new_cases': '4,707'},\n",
       " {'name': 'Washington', 'total_cases': '302,141', 'new_cases': '1,943'},\n",
       " {'name': 'West Virginia', 'total_cases': '116,978', 'new_cases': '1,139'},\n",
       " {'name': 'Wisconsin', 'total_cases': '584,041', 'new_cases': '1,564'},\n",
       " {'name': 'Wyoming', 'total_cases': '51,152', 'new_cases': '90'}]"
      ]
     },
     "execution_count": 5,
     "metadata": {},
     "output_type": "execute_result"
    }
   ],
   "source": [
    "all_data = []\n",
    "\n",
    "for d in soup.find_all('div', attrs={'class':'b460e'}):\n",
    "        #print(d)\n",
    "        header_name = d.find('div', attrs={'class':'state-header _50a32'})\n",
    "        total_cases = d.find('div', attrs={'class':'c4015'}).text\n",
    "        new_cases = d.find('span', attrs={'class':'c4015'}).text\n",
    "        \n",
    "        state_name = header_name.find('a').text\n",
    "        \n",
    "        state_data = {\n",
    "            'name' : state_name,\n",
    "            'total_cases' : total_cases,\n",
    "            'new_cases' : new_cases\n",
    "                     }\n",
    "        all_data.append(state_data)\n",
    "        \n",
    "all_data            "
   ]
  },
  {
   "cell_type": "code",
   "execution_count": null,
   "metadata": {},
   "outputs": [],
   "source": []
  }
 ],
 "metadata": {
  "kernelspec": {
   "display_name": "Python 3",
   "language": "python",
   "name": "python3"
  },
  "language_info": {
   "codemirror_mode": {
    "name": "ipython",
    "version": 3
   },
   "file_extension": ".py",
   "mimetype": "text/x-python",
   "name": "python",
   "nbconvert_exporter": "python",
   "pygments_lexer": "ipython3",
   "version": "3.7.6"
  }
 },
 "nbformat": 4,
 "nbformat_minor": 4
}
